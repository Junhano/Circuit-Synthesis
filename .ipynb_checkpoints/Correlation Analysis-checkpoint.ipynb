{
 "cells": [
  {
   "cell_type": "code",
   "execution_count": 1,
   "metadata": {},
   "outputs": [],
   "source": [
    "import matplotlib.pyplot as plt\n",
    "import torch\n",
    "import torch.nn as nn\n",
    "import torch.optim as optim\n",
    "from torch.utils.data import DataLoader\n",
    "from Training import model, utils, dataset, train\n",
    "import numpy as np\n",
    "from sklearn import preprocessing\n",
    "from IPython.display import HTML\n",
    "from matplotlib import animation\n",
    "from mpl_toolkits.mplot3d import axes3d"
   ]
  },
  {
   "cell_type": "code",
   "execution_count": 2,
   "metadata": {},
   "outputs": [],
   "source": [
    "test_model_1 = model.ModelSmallGELU()\n",
    "# load data\n",
    "data = np.array(utils.parseGainAndBWCsv('Data/BW_Gain2.0.csv')).astype(float)"
   ]
  },
  {
   "cell_type": "code",
   "execution_count": 3,
   "metadata": {},
   "outputs": [
    {
     "name": "stdout",
     "output_type": "stream",
     "text": [
      "(668, 2, 2)\n",
      "[[[ 1.000e-06  1.590e+03]\n",
      "  [ 3.022e+00  9.660e+10]]\n",
      "\n",
      " [[ 1.000e-06  1.640e+03]\n",
      "  [ 3.231e+00  9.330e+10]]\n",
      "\n",
      " [[ 1.000e-06  1.680e+03]\n",
      "  [ 3.433e+00  9.030e+10]]\n",
      "\n",
      " ...\n",
      "\n",
      " [[ 1.000e-05  8.954e+02]\n",
      "  [ 5.210e-01  6.070e+10]]\n",
      "\n",
      " [[ 1.000e-05  9.417e+02]\n",
      "  [-8.350e-01  7.100e+10]]\n",
      "\n",
      " [[ 1.000e-05  9.881e+02]\n",
      "  [-2.015e+00  8.400e+10]]]\n"
     ]
    }
   ],
   "source": [
    "print(data.shape)\n",
    "print(data)"
   ]
  },
  {
   "cell_type": "code",
   "execution_count": 4,
   "metadata": {},
   "outputs": [],
   "source": [
    "data = data.reshape(data.shape[0],4)\n",
    "feature = data.T[0]\n",
    "\n",
    "# ensure norm and denorm work \n",
    "norm, data_min, data_max = utils.normalize(feature)\n",
    "feature_1 = utils.denormalize(norm, data_min, data_max)\n",
    "\n",
    "\n",
    "min_max = dict()\n",
    "for i in range(4):\n",
    "    feature = data.T[i]\n",
    "    norm_feature, data_min, data_max = utils.normalize(feature)\n",
    "    data.T[i] = norm_feature\n",
    "    min_max[i] = [data_min, data_max]\n",
    "data = data.reshape(data.shape[0],2,2)"
   ]
  },
  {
   "cell_type": "code",
   "execution_count": 5,
   "metadata": {},
   "outputs": [],
   "source": [
    "data_x = data[:, 1]\n",
    "data_y = data[: ,0]\n",
    "data_set = dataset.CircuitSynthesisGainAndBandwidthManually(data_x, data_y)"
   ]
  },
  {
   "cell_type": "code",
   "execution_count": 6,
   "metadata": {},
   "outputs": [
    {
     "ename": "NameError",
     "evalue": "name 'test_model_1' is not defined",
     "output_type": "error",
     "traceback": [
      "\u001b[0;31m---------------------------------------------------------------------------\u001b[0m",
      "\u001b[0;31mNameError\u001b[0m                                 Traceback (most recent call last)",
      "\u001b[0;32m<ipython-input-6-510c416a5e02>\u001b[0m in \u001b[0;36m<module>\u001b[0;34m\u001b[0m\n\u001b[1;32m      3\u001b[0m \u001b[0;34m\u001b[0m\u001b[0m\n\u001b[1;32m      4\u001b[0m \u001b[0mx\u001b[0m \u001b[0;34m=\u001b[0m \u001b[0moptim\u001b[0m\u001b[0;34m.\u001b[0m\u001b[0mAdam\u001b[0m\u001b[0;34m\u001b[0m\u001b[0;34m\u001b[0m\u001b[0m\n\u001b[0;32m----> 5\u001b[0;31m \u001b[0moptimizer1\u001b[0m \u001b[0;34m=\u001b[0m \u001b[0mx\u001b[0m\u001b[0;34m(\u001b[0m\u001b[0mtest_model_1\u001b[0m\u001b[0;34m.\u001b[0m\u001b[0mparameters\u001b[0m\u001b[0;34m(\u001b[0m\u001b[0;34m)\u001b[0m\u001b[0;34m,\u001b[0m \u001b[0mlr\u001b[0m\u001b[0;34m=\u001b[0m\u001b[0;36m3e-4\u001b[0m\u001b[0;34m)\u001b[0m\u001b[0;31m#0.06448295999961791)  # TODO haven't experimented with this yet\u001b[0m\u001b[0;34m\u001b[0m\u001b[0;34m\u001b[0m\u001b[0m\n\u001b[0m\u001b[1;32m      6\u001b[0m \u001b[0mtrain_data\u001b[0m \u001b[0;34m=\u001b[0m \u001b[0mDataLoader\u001b[0m\u001b[0;34m(\u001b[0m\u001b[0mdata_set\u001b[0m\u001b[0;34m,\u001b[0m \u001b[0mbatch_size\u001b[0m\u001b[0;34m=\u001b[0m\u001b[0;36m50\u001b[0m\u001b[0;34m)\u001b[0m\u001b[0;34m\u001b[0m\u001b[0;34m\u001b[0m\u001b[0m\n",
      "\u001b[0;31mNameError\u001b[0m: name 'test_model_1' is not defined"
     ]
    }
   ],
   "source": [
    "dtype = torch.FloatTensor\n",
    "loss_fn = nn.L1Loss().type(dtype)  # loss can be changed here. This is the first one i tried that gave meaningful results\n",
    "\n",
    "x = optim.Adam\n",
    "optimizer1 = x(test_model_1.parameters(), lr=3e-4)#0.06448295999961791)  # TODO haven't experimented with this yet\n",
    "train_data = DataLoader(data_set, batch_size=50)"
   ]
  },
  {
   "cell_type": "code",
   "execution_count": null,
   "metadata": {},
   "outputs": [],
   "source": [
    "losses, accs, part_accs = train.trainWValidation(test_model_1, train_data, train_data, loss_fn, optimizer1, num_epochs=2000, print_every=50)"
   ]
  }
 ],
 "metadata": {
  "kernelspec": {
   "display_name": "Python 3",
   "language": "python",
   "name": "python3"
  },
  "language_info": {
   "codemirror_mode": {
    "name": "ipython",
    "version": 3
   },
   "file_extension": ".py",
   "mimetype": "text/x-python",
   "name": "python",
   "nbconvert_exporter": "python",
   "pygments_lexer": "ipython3",
   "version": "3.7.6"
  }
 },
 "nbformat": 4,
 "nbformat_minor": 4
}
