{
 "cells": [
  {
   "cell_type": "markdown",
   "id": "3a42103b-47be-40e3-9d64-13d4595d50c6",
   "metadata": {},
   "source": [
    "# Probablistic Model"
   ]
  },
  {
   "cell_type": "code",
   "execution_count": 1,
   "id": "678db546-b1d7-43ac-b907-cf30cf664d5b",
   "metadata": {},
   "outputs": [],
   "source": [
    "import math\n",
    "import torch\n",
    "import numpy as np\n",
    "import pandas as pd\n",
    "import tensorflow as tf\n",
    "import torch.nn as nn\n",
    "import torch.optim as optim\n",
    "import matplotlib.pyplot as plt\n",
    "from torch.utils.data import DataLoader\n",
    "from sklearn import preprocessing\n",
    "from Training import model, utils, dataset, train\n",
    "from sklearn.model_selection import train_test_split\n",
    "\n",
    "import keras.backend as K"
   ]
  },
  {
   "cell_type": "code",
   "execution_count": 121,
   "id": "defc55b7-af20-44be-90f1-f39f0853dd38",
   "metadata": {},
   "outputs": [],
   "source": [
    "def check_acc(y_hat,y,margin=0.05):\n",
    "    a_err = (np.abs(y_hat - y)) # get normalized error \n",
    "    err = np.divide(a_err, y, out=a_err, where=y==0)\n",
    "    assert(err.shape == y.shape)\n",
    "    num_correct = 0\n",
    "    for row in err:\n",
    "        num_in_row = len(np.where(row < margin)[0]) # margin * 100 because \n",
    "        if num_in_row == len(row):\n",
    "            num_correct += 1\n",
    "\n",
    "    num_samples = y.shape[0]\n",
    "    correct_idx = np.where(err < margin)\n",
    "    num_part_correct = len(correct_idx[0])\n",
    "    num_part_samples = y.shape[0] * y.shape[1]\n",
    "    print(f\"Correct = {num_correct} / {num_samples}\")\n",
    "    return (num_correct/num_samples)\n",
    "\n",
    "def multivariate_gaussian_nll(ypreds, ytrue, var):\n",
    "    \"\"\"Keras implmementation of multivariate Gaussian negative loglikelihood loss function. \n",
    "    This implementation implies diagonal covariance matrix.\n",
    "    \n",
    "    Parameters\n",
    "    ----------\n",
    "    ytrue: tf.tensor of shape [n_samples, n_dims]\n",
    "        ground truth values\n",
    "    ypreds: tf.tensor of shape [n_samples, n_dims*2]\n",
    "        predicted mu and logsigma values (e.g. by your neural network)\n",
    "        \n",
    "    Returns\n",
    "    -------\n",
    "    neg_log_likelihood: float\n",
    "        negative loglikelihood averaged over samples\n",
    "        \n",
    "    This loss can then be used as a target loss for any keras model, e.g.:\n",
    "        model.compile(loss=gaussian_nll, optimizer='Adam') \n",
    "    \n",
    "    \"\"\"\n",
    "    #print(f\"ytrue: {ytrue.shape}\")\n",
    "    #print(f\"ypreds: {ypreds.shape}\")\n",
    "    \n",
    "    diag = torch.exp(2*var[:,:2])\n",
    "    n = ypreds.shape[1]\n",
    "    B = ypreds.shape[0]\n",
    "    \n",
    "    z = torch.zeros(B)\n",
    "    o = torch.ones(B)\n",
    "    D = torch.stack((diag[:,0],z,z,diag[:,1]),dim=1).reshape(B,2,2)\n",
    "    L = torch.stack((o,z,var[:,2],o),dim=1).reshape(B,2,2)\n",
    "    LT = torch.stack((o,var[:,2],z,o),dim=1).reshape(B,2,2)\n",
    "\n",
    "    sigma = L @ D @ LT\n",
    "    ximu =(ytrue-ypreds).reshape(B,1,2)\n",
    "    ximuT =(ytrue-ypreds).reshape(B,2,1)\n",
    "    # print(ximuT.shape)\n",
    "    # print(ximu.shape)\n",
    "    # print(sigma.shape)\n",
    "    loss = 0.5*torch.sum(ximu@sigma@ximuT + ((n/2)*(-1*torch.sum(var[:,:2],axis=1).reshape(B,1))))\n",
    "    return loss"
   ]
  },
  {
   "cell_type": "markdown",
   "id": "f7398448-40f9-4c10-afb8-69a8444511c0",
   "metadata": {},
   "source": [
    "#### Load Data"
   ]
  },
  {
   "cell_type": "code",
   "execution_count": 122,
   "id": "b2d2858d-a42f-48f6-9de3-d26d88247ccc",
   "metadata": {},
   "outputs": [],
   "source": [
    "data = utils.parseGainAndBWCsv2(\"Data/BW-3000.csv\").astype(float)"
   ]
  },
  {
   "cell_type": "code",
   "execution_count": 123,
   "id": "53cbbc10-eb8d-490a-848c-23832f79bc18",
   "metadata": {},
   "outputs": [
    {
     "name": "stdout",
     "output_type": "stream",
     "text": [
      "[6.200e+02 2.880e-06 3.775e+00 8.280e+10]\n"
     ]
    }
   ],
   "source": [
    "print(data[0])"
   ]
  },
  {
   "cell_type": "markdown",
   "id": "85d7ae70-e420-4c5f-8712-a0dc166fb873",
   "metadata": {},
   "source": [
    "##### Split data into inputs X and target Y Normalize to [0,1] (inclusive) and create Training and Testign Splits\n"
   ]
  },
  {
   "cell_type": "code",
   "execution_count": 124,
   "id": "cd2625d6-6c84-44b0-9b60-68e46eeb41b1",
   "metadata": {},
   "outputs": [],
   "source": [
    "data = preprocessing.MinMaxScaler((0,1)).fit_transform(data)\n",
    "X = data[:,:2]\n",
    "Y = data[:,2:]"
   ]
  },
  {
   "cell_type": "markdown",
   "id": "25750082-6130-442e-929d-67ce5e824bb7",
   "metadata": {},
   "source": [
    "#### Define Model and Parameters"
   ]
  },
  {
   "cell_type": "markdown",
   "id": "de2c611a-c7f2-4170-94af-4d2025de4f27",
   "metadata": {},
   "source": [
    "##### Define model\n",
    "\n",
    "* Model: MLP with variable hidden layer number and width  \n",
    "* Output layer: \n",
    "    * Node 1 and 2 are the mean for probability mean \n",
    "    * Node 3 and 4 are the diagonal of the covariance matrix\n"
   ]
  },
  {
   "cell_type": "code",
   "execution_count": 125,
   "id": "499f1200-7d1d-4910-a2ac-83f2852d4f4f",
   "metadata": {},
   "outputs": [],
   "source": [
    "# num_hidden_layers = 5\n",
    "# hidden_layer_size = 500\n",
    "\n",
    "# model = tf.keras.models.Sequential([])\n",
    "\n",
    "# for i in range(num_hidden_layers):\n",
    "#     model.add(tf.keras.layers.Dense(hidden_layer_size, activation='relu'))\n",
    "# model.add(tf.keras.layers.Dense(4, activation='sigmoid')) # add output layer: node 1,2 are "
   ]
  },
  {
   "cell_type": "code",
   "execution_count": 129,
   "id": "a3618fa3-b062-454c-a941-d2d8783d52cc",
   "metadata": {},
   "outputs": [],
   "source": [
    "test_model = model.DistModel50x10(2,5)"
   ]
  },
  {
   "cell_type": "markdown",
   "id": "4438de8d-1aae-4213-b15a-f70a13b80002",
   "metadata": {},
   "source": [
    "##### Define Loss\n",
    "\n",
    "* Loss: guassian_nll\n",
    "    * cite: https://gist.github.com/sergeyprokudin/4a50bf9b75e0559c1fcd2cae860b879e"
   ]
  },
  {
   "cell_type": "code",
   "execution_count": 130,
   "id": "149403d4-2f8c-4238-9cb0-8c7ae7d36a95",
   "metadata": {},
   "outputs": [],
   "source": [
    "optimizer = optim.Adam(test_model.parameters(),lr=0.001)\n",
    "loss_fn = multivariate_gaussian_nll\n",
    "\n",
    "dataset1 = dataset.CircuitSynthesisGainAndBandwidthManually(Y, X)\n",
    "train_dataset, val_dataset = utils.splitDataset(dataset1, 0.95)\n",
    "    \n",
    "train_data = DataLoader(train_dataset,batch_size = 500)\n",
    "validation_data = DataLoader(val_dataset, batch_size = 500)"
   ]
  },
  {
   "cell_type": "code",
   "execution_count": 131,
   "id": "8827726e-cbf1-4d93-8aea-51d8bfe01a5f",
   "metadata": {},
   "outputs": [
    {
     "name": "stdout",
     "output_type": "stream",
     "text": [
      "t = 10, loss = -12332.4678, val loss = -6461.2451\n",
      "t = 20, loss = -14135.7525, val loss = -7147.7368\n",
      "t = 30, loss = -40992.5905, val loss = -24330.5977\n",
      "t = 40, loss = -67596.9798, val loss = -40321.4258\n",
      "t = 50, loss = -173949.4180, val loss = -103137.9141\n",
      "t = 60, loss = -181734.0117, val loss = -106291.6797\n",
      "t = 70, loss = -185483.0026, val loss = -108485.0781\n",
      "t = 80, loss = -186262.5091, val loss = -108769.5703\n",
      "t = 90, loss = -186942.9115, val loss = -108678.9219\n",
      "t = 100, loss = -186555.3529, val loss = -107976.9922\n",
      "t = 110, loss = -186669.1354, val loss = -108617.5312\n",
      "t = 120, loss = -187675.8542, val loss = -109520.9375\n",
      "t = 130, loss = -187328.6458, val loss = -109537.6562\n",
      "t = 140, loss = -188451.3763, val loss = -110078.9766\n",
      "t = 150, loss = -188816.1536, val loss = -110319.9375\n",
      "t = 160, loss = -189761.2005, val loss = -110837.5781\n",
      "t = 170, loss = -191240.2266, val loss = -112077.6562\n",
      "t = 180, loss = -194810.3385, val loss = -116973.2656\n",
      "t = 190, loss = -190399.6068, val loss = -120401.9531\n",
      "t = 200, loss = -158210.9727, val loss = -97804.1484\n",
      "t = 210, loss = -190351.9635, val loss = -112118.1094\n",
      "t = 220, loss = -194769.0456, val loss = -118384.0703\n",
      "t = 230, loss = -182495.5547, val loss = -108441.0312\n",
      "t = 240, loss = -189023.1393, val loss = -110494.7266\n",
      "t = 250, loss = -190205.0169, val loss = -111191.7578\n"
     ]
    }
   ],
   "source": [
    "epochs = 250\n",
    "loss_list, val_loss_list = train.trainProbModel(test_model, train_data, loss_fn, optimizer, num_epochs=epochs, print_every=10, validation_data=validation_data)"
   ]
  },
  {
   "cell_type": "markdown",
   "id": "e63a3d25-06d6-4681-82ba-48c01b68b214",
   "metadata": {},
   "source": [
    "## Loss visualization\n",
    "\n",
    "Loss plots for training and validation by epoch"
   ]
  },
  {
   "cell_type": "code",
   "execution_count": 132,
   "id": "37224eee-48eb-410f-80de-6a349dbd8ab2",
   "metadata": {},
   "outputs": [
    {
     "data": {
      "image/png": "[encoded data removed]",
      "text/plain": [
       "<Figure size 432x288 with 1 Axes>"
      ]
     },
     "metadata": {
      "needs_background": "light"
     },
     "output_type": "display_data"
    }
   ],
   "source": [
    "plt.plot(np.arange(len(loss_list)),loss_list)\n",
    "plt.plot(np.arange(len(val_loss_list)),val_loss_list)\n",
    "plt.title('model loss')\n",
    "plt.ylabel('Guassian NLL')\n",
    "plt.xlabel('epoch')\n",
    "plt.legend(['train', 'test'], loc='upper left')\n",
    "plt.show()"
   ]
  },
  {
   "cell_type": "markdown",
   "id": "64a54df1-4c4b-4c23-bfa5-43c07a8b2479",
   "metadata": {},
   "source": [
    "## Testing scipt\n",
    "\n",
    "My idea of the testing script. \n",
    "It takes the inverse simulator prediction (Y -> X^)  \n",
    "Pass X^ to mock_simulator to get Y^   \n",
    "evaluate performance from Y to Y^  \n",
    "I don't know if the data is being shuffled at all could contribute too the poor performance"
   ]
  },
  {
   "cell_type": "code",
   "execution_count": 118,
   "id": "16763cec-b702-4c43-bd3a-1a9dfcb69d4d",
   "metadata": {},
   "outputs": [
    {
     "name": "stdout",
     "output_type": "stream",
     "text": [
      "[[0.5153474  0.69657034]\n",
      " [0.5157631  0.6958994 ]\n",
      " [0.521984   0.68585736]\n",
      " ...\n",
      " [0.9059506  0.13781458]\n",
      " [0.91851705 0.12395515]\n",
      " [0.93198574 0.11002131]]\n"
     ]
    }
   ],
   "source": [
    "x_preds = test_model(torch.Tensor(Y))\n",
    "#print(x_preds)\n",
    "mock_simulator = tf.keras.models.load_model('mock_simulator')\n",
    "\n",
    "final_preds = []\n",
    "for i in range(x_preds.shape[0]):\n",
    "    means = x_preds.detach().numpy()[i,:2].T\n",
    "    y_hat = mock_simulator(means.reshape(1,2)) # feed back through simulator to get evaluated performance\n",
    "    final_preds.append(y_hat)\n",
    "final_preds = np.array(final_preds).reshape(-1,2)\n",
    "    \n",
    "\n",
    "# for i,d in enumerate(final_preds):\n",
    "#     print(Y[i],d)\n",
    "print(final_preds)\n"
   ]
  },
  {
   "cell_type": "code",
   "execution_count": 119,
   "id": "cb496032-fc33-4026-9dc8-3dcaccf78ef0",
   "metadata": {},
   "outputs": [
    {
     "name": "stdout",
     "output_type": "stream",
     "text": [
      "Correct = 11 / 3022\n"
     ]
    },
    {
     "data": {
      "text/plain": [
       "0.003639973527465255"
      ]
     },
     "execution_count": 119,
     "metadata": {},
     "output_type": "execute_result"
    }
   ],
   "source": [
    "check_acc(Y,final_preds,margin=.05)"
   ]
  },
  {
   "cell_type": "code",
   "execution_count": 120,
   "id": "206742c1-3705-4dd8-9c1d-74ebffea17e3",
   "metadata": {},
   "outputs": [
    {
     "data": {
      "image/png": "[encoded data removed]",
      "text/plain": [
       "<Figure size 432x288 with 1 Axes>"
      ]
     },
     "metadata": {
      "needs_background": "light"
     },
     "output_type": "display_data"
    }
   ],
   "source": [
    "plt.plot(np.arange(len(loss_list)),loss_list)\n",
    "plt.plot(np.arange(len(val_loss_list)),val_loss_list)\n",
    "plt.title('model loss')\n",
    "plt.ylabel('Guassian NLL')\n",
    "plt.xlabel('epoch')\n",
    "plt.legend(['train', 'test'], loc='upper left')\n",
    "plt.show()"
   ]
  },
  {
   "cell_type": "code",
   "execution_count": 28,
   "id": "8cc5819d-bbfa-4e78-ad68-0ab19bad0005",
   "metadata": {},
   "outputs": [],
   "source": [
    "# loss_fn = gaussian_nll\n",
    "\n",
    "# optim = tf.keras.optimizers.Adam(\n",
    "#     learning_rate=0.001)\n",
    "# model.compile(optimizer=optim,\n",
    "#               loss=loss_fn)"
   ]
  },
  {
   "cell_type": "code",
   "execution_count": 15,
   "id": "79528927-4cf7-43f0-b6f5-0e917873630e",
   "metadata": {},
   "outputs": [],
   "source": [
    "# model.fit(X_train, y_train, epochs=1000, batch_size= 700, validation_data=(X_test, y_test))"
   ]
  },
  {
   "cell_type": "code",
   "execution_count": 16,
   "id": "f5ea823e-81e9-419a-9f6c-9c8cb35b48e4",
   "metadata": {},
   "outputs": [],
   "source": [
    " #mse = -0.5*K.sum(K.square((ytrue-mu)/K.exp(logsigma)),axis=1)\n",
    "    #sigma_trace = -K.sum(logsigma, axis=1)\n",
    "    #log2pi = -0.5*n_dims*np.log(2*np.pi)\n",
    "    \n",
    "    \n",
    "    #log_likelihood = 0.5 * K.log(sigma**2) + (ytrue-mu)**2 / (sigma)"
   ]
  },
  {
   "cell_type": "code",
   "execution_count": 17,
   "id": "cdd1310b-0987-4941-9c3d-5a33399b4176",
   "metadata": {},
   "outputs": [
    {
     "data": {
      "text/plain": [
       "array([[0, 1],\n",
       "       [2, 3]])"
      ]
     },
     "execution_count": 17,
     "metadata": {},
     "output_type": "execute_result"
    }
   ],
   "source": [
    "np.arange(4).reshape(2,2)"
   ]
  },
  {
   "cell_type": "code",
   "execution_count": 18,
   "id": "bf73da5a-1775-42aa-8d6f-e001866e3e0d",
   "metadata": {},
   "outputs": [],
   "source": [
    "a = np.arange(12).reshape(3,2,2)"
   ]
  },
  {
   "cell_type": "code",
   "execution_count": 19,
   "id": "d62a28ca-b162-403b-bdc4-bbf8bb9904df",
   "metadata": {},
   "outputs": [],
   "source": [
    "b = np.arange(12).reshape(3,2,2)"
   ]
  },
  {
   "cell_type": "code",
   "execution_count": 20,
   "id": "587c8a4a-ea8a-41a9-a138-a3fb0c28ac81",
   "metadata": {},
   "outputs": [
    {
     "data": {
      "text/plain": [
       "array([[ 2,  3],\n",
       "       [ 6, 11]])"
      ]
     },
     "execution_count": 20,
     "metadata": {},
     "output_type": "execute_result"
    }
   ],
   "source": [
    "a[0] @ b[0]"
   ]
  },
  {
   "cell_type": "code",
   "execution_count": 21,
   "id": "bfbfce93-b5b3-4204-90ff-ffaee94e6e4b",
   "metadata": {},
   "outputs": [
    {
     "data": {
      "text/plain": [
       "array([[[ 0,  1],\n",
       "        [ 2,  3]],\n",
       "\n",
       "       [[ 4,  5],\n",
       "        [ 6,  7]],\n",
       "\n",
       "       [[ 8,  9],\n",
       "        [10, 11]]])"
      ]
     },
     "execution_count": 21,
     "metadata": {},
     "output_type": "execute_result"
    }
   ],
   "source": [
    "a"
   ]
  },
  {
   "cell_type": "code",
   "execution_count": 22,
   "id": "8bba85a3-e0c6-4e05-86c1-0d88b51a2b7d",
   "metadata": {},
   "outputs": [
    {
     "ename": "ValueError",
     "evalue": "operands could not be broadcast together with shapes (3,2,2) (6,2) ",
     "output_type": "error",
     "traceback": [
      "\u001b[0;31m---------------------------------------------------------------------------\u001b[0m",
      "\u001b[0;31mValueError\u001b[0m                                Traceback (most recent call last)",
      "Input \u001b[0;32mIn [22]\u001b[0m, in \u001b[0;36m<module>\u001b[0;34m\u001b[0m\n\u001b[0;32m----> 1\u001b[0m \u001b[43ma\u001b[49m\u001b[43m \u001b[49m\u001b[38;5;241;43m*\u001b[39;49m\u001b[43m \u001b[49m\u001b[43mnp\u001b[49m\u001b[38;5;241;43m.\u001b[39;49m\u001b[43meye\u001b[49m\u001b[43m(\u001b[49m\u001b[38;5;241;43m6\u001b[39;49m\u001b[43m,\u001b[49m\u001b[38;5;241;43m2\u001b[39;49m\u001b[43m,\u001b[49m\u001b[38;5;241;43m2\u001b[39;49m\u001b[43m)\u001b[49m\n",
      "\u001b[0;31mValueError\u001b[0m: operands could not be broadcast together with shapes (3,2,2) (6,2) "
     ]
    }
   ],
   "source": [
    "a * np.eye(6,2,2)"
   ]
  },
  {
   "cell_type": "code",
   "execution_count": null,
   "id": "4c5b8353-36aa-486c-a9e3-4a6a3df6c970",
   "metadata": {},
   "outputs": [],
   "source": [
    "a[0].T @ np.eye(2)"
   ]
  },
  {
   "cell_type": "code",
   "execution_count": null,
   "id": "5b3a91ff-e5c8-42de-9aa5-e5bd6084b90b",
   "metadata": {},
   "outputs": [],
   "source": [
    "d = np.array([2,3])"
   ]
  },
  {
   "cell_type": "code",
   "execution_count": null,
   "id": "f28b3c85-cb24-4ae5-bf2c-1ba260aec73b",
   "metadata": {},
   "outputs": [],
   "source": [
    "d"
   ]
  },
  {
   "cell_type": "code",
   "execution_count": null,
   "id": "ce59dbfd-1462-4e58-8d29-08b491728bc9",
   "metadata": {},
   "outputs": [],
   "source": [
    "d.T @ np.eye(2)"
   ]
  },
  {
   "cell_type": "code",
   "execution_count": null,
   "id": "8e4438e8-5abd-478a-a5b4-b27a68dec402",
   "metadata": {},
   "outputs": [],
   "source": [
    "i = np.ones(2)\n",
    "z = np.zeros((2,2))\n",
    "np.einsum('i,jk->jj', i,z)"
   ]
  },
  {
   "cell_type": "code",
   "execution_count": null,
   "id": "880eb089-83be-4a07-9886-605ce104bff2",
   "metadata": {},
   "outputs": [],
   "source": [
    "a = np.arange(4*3).reshape(4,3)"
   ]
  },
  {
   "cell_type": "code",
   "execution_count": null,
   "id": "1064c264-8a43-4de6-8c26-f83de147198f",
   "metadata": {},
   "outputs": [],
   "source": [
    "print(a)\n",
    "np.zeros()\n",
    "x = np.array([[1,2],[3,4]])\n",
    "np.repeat(a,[1,2,1], axis = 1).reshape(4,2,2)"
   ]
  },
  {
   "cell_type": "code",
   "execution_count": null,
   "id": "4020a992-f07d-44ce-b9fc-5adf018df02e",
   "metadata": {},
   "outputs": [],
   "source": [
    "a = np.arange(2*3).reshape(3,2)\n",
    "a[:,0].reshape(3,1)"
   ]
  },
  {
   "cell_type": "code",
   "execution_count": null,
   "id": "4577f52f-797a-411c-ad95-daec3f45ebb1",
   "metadata": {},
   "outputs": [],
   "source": [
    "b = np.zeros((3,1))\n",
    "b"
   ]
  },
  {
   "cell_type": "code",
   "execution_count": null,
   "id": "6dd12c30-216f-4155-b766-1a36002881d6",
   "metadata": {},
   "outputs": [],
   "source": [
    "d = np.hstack((a[:,0].reshape(3,1),b,b,a[:,1].reshape(3,1)))\n",
    "print(d)\n",
    "D = d.reshape(3,2,2)"
   ]
  },
  {
   "cell_type": "code",
   "execution_count": null,
   "id": "bb5aba1f-2b5d-43ee-870e-bd7c589057eb",
   "metadata": {},
   "outputs": [],
   "source": [
    "l = np.arange(3).reshape(3,1)\n",
    "l"
   ]
  },
  {
   "cell_type": "code",
   "execution_count": null,
   "id": "4f326e95-f33b-4e80-a563-b50a951424d8",
   "metadata": {},
   "outputs": [],
   "source": [
    "o = np.ones((3,1))\n",
    "z = np.zeros((3,1))\n",
    "\n",
    "L = np.hstack((o,z,l,o))\n",
    "L = L.reshape(3,2,2)\n",
    "LT = np.hstack((o,l,z,o))\n",
    "LT =LT.reshape(3,2,2)"
   ]
  },
  {
   "cell_type": "code",
   "execution_count": null,
   "id": "e2bb5bdc-1a90-4a81-8d78-48c4dd6f68f6",
   "metadata": {},
   "outputs": [],
   "source": [
    "print(L.shape,D.shape,LT.shape)\n",
    "L@D@LT"
   ]
  },
  {
   "cell_type": "code",
   "execution_count": null,
   "id": "c1178686-d81b-4d65-93f7-740e02a4bb4f",
   "metadata": {},
   "outputs": [],
   "source": [
    "LT,L"
   ]
  },
  {
   "cell_type": "code",
   "execution_count": null,
   "id": "b1e684b2-88cf-403f-bdc8-c77bab67be36",
   "metadata": {},
   "outputs": [],
   "source": []
  },
  {
   "cell_type": "code",
   "execution_count": null,
   "id": "7afefb50-b43b-46f9-bb4a-0c93b9ffa9a5",
   "metadata": {},
   "outputs": [],
   "source": []
  }
 ],
 "metadata": {
  "kernelspec": {
   "display_name": "Python 3 (ipykernel)",
   "language": "python",
   "name": "python3"
  },
  "language_info": {
   "codemirror_mode": {
    "name": "ipython",
    "version": 3
   },
   "file_extension": ".py",
   "mimetype": "text/x-python",
   "name": "python",
   "nbconvert_exporter": "python",
   "pygments_lexer": "ipython3",
   "version": "3.9.7"
  }
 },
 "nbformat": 4,
 "nbformat_minor": 5
}
