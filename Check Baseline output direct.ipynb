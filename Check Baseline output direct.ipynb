{
 "cells": [
  {
   "cell_type": "code",
   "execution_count": 1,
   "metadata": {},
   "outputs": [],
   "source": [
    "import math\n",
    "import torch\n",
    "import numpy as np\n",
    "import pandas as pd\n",
    "import tensorflow as tf\n",
    "import torch.nn as nn\n",
    "import torch.optim as optim\n",
    "import matplotlib.pyplot as plt\n",
    "from torch.utils.data import DataLoader\n",
    "from sklearn import preprocessing\n",
    "from Training import model, utils, dataset, train\n",
    "from sklearn.model_selection import train_test_split\n",
    "\n",
    "\n",
    "import keras.backend as K"
   ]
  },
  {
   "cell_type": "code",
   "execution_count": 2,
   "metadata": {},
   "outputs": [],
   "source": [
    "def check_acc(y_hat,y,margin=0.05):\n",
    "    a_err = (np.abs(y_hat - y)) # get normalized error \n",
    "    err = np.divide(a_err, y, out=a_err, where=y!=0)\n",
    "    assert(err.shape == y.shape)\n",
    "    num_correct = 0\n",
    "    for row in err:\n",
    "        num_in_row = len(np.where(row < margin)[0]) # margin * 100 because \n",
    "        if num_in_row == len(row):\n",
    "            num_correct += 1\n",
    "\n",
    "    num_samples = y.shape[0]\n",
    "    correct_idx = np.where(err < margin)\n",
    "    num_part_correct = len(correct_idx[0])\n",
    "    num_part_samples = y.shape[0] * y.shape[1]\n",
    "    print(f\"Correct = {num_correct} / {num_samples}\")\n",
    "    return (num_correct/num_samples)\n",
    "from matplotlib.patches import Ellipse\n",
    "def plot_cov_ellipse(cov, pos, nstd=2, ax=None, **kwargs):\n",
    "    \"\"\"\n",
    "    Plots an `nstd` sigma error ellipse based on the specified covariance\n",
    "    matrix (`cov`). Additional keyword arguments are passed on to the \n",
    "    ellipse patch artist.\n",
    "    Parameters\n",
    "    ----------\n",
    "        cov : The 2x2 covariance matrix to base the ellipse on\n",
    "        pos : The location of the center of the ellipse. Expects a 2-element\n",
    "            sequence of [x0, y0].\n",
    "        nstd : The radius of the ellipse in numbers of standard deviations.\n",
    "            Defaults to 2 standard deviations.\n",
    "        ax : The axis that the ellipse will be plotted on. Defaults to the \n",
    "            current axis.\n",
    "        Additional keyword arguments are pass on to the ellipse patch.\n",
    "    Returns\n",
    "    -------\n",
    "        A matplotlib ellipse artist\n",
    "    \"\"\"\n",
    "    def eigsorted(cov):\n",
    "        vals, vecs = np.linalg.eigh(cov)\n",
    "        order = vals.argsort()[::-1]\n",
    "        return vals[order], vecs[:,order]\n",
    "\n",
    "    if ax is None:\n",
    "        ax = plt.gca()\n",
    "\n",
    "    vals, vecs = eigsorted(cov)\n",
    "    theta = np.degrees(np.arctan2(*vecs[:,0][::-1]))\n",
    "\n",
    "    # Width and height are \"full\" widths, not radius\n",
    "    width, height = 2 * nstd * np.sqrt(vals)\n",
    "    ellip = Ellipse(xy=pos, width=width, height=height, angle=theta, **kwargs)\n",
    "\n",
    "    ax.add_artist(ellip)\n",
    "    return ellip\n",
    "def multivariate_gaussian_nll(ypreds, ytrue, var):\n",
    "    \n",
    "    diag = torch.exp(var[:,:2]) # convert log-scale var to\n",
    "    n = ypreds.shape[1] #number of parameters ie number of means (2 gain and bandwidth)\n",
    "    B = ypreds.shape[0] #Batch size\n",
    "    \n",
    "    z = torch.zeros(B)\n",
    "    o = torch.ones(B)\n",
    "    D = torch.stack((diag[:,0],z,z,diag[:,1]),dim=1).reshape(B,2,2) # form Diagnol matrix D for LDLT\n",
    "    L = torch.stack((o,z,var[:,2],o),dim=1).reshape(B,2,2) # form L matrix \n",
    "    LT = torch.stack((o,var[:,2],z,o),dim=1).reshape(B,2,2) # form LT matrix (transpose of L)\n",
    "\n",
    "    sigma = L @ D @ LT   # form sigma inv from LDLT decomp\n",
    "    ximu =(ytrue-ypreds).reshape(B,2,1)  #true- minus \n",
    "    ximuT =(ytrue-ypreds).reshape(B,1,2) # true- minus  transpose\n",
    "\n",
    "    loss = 0.5*torch.mean(ximuT@sigma@ximu + ((n/2)*(-torch.sum(var[:,:2],axis=1).reshape(B,1))))\n",
    "    return loss\n",
    "def formCovMatrix(var):\n",
    "    diag = np.exp(var[:2])\n",
    "    z = np.zeros(2)\n",
    "    o = np.ones(2)\n",
    "    D = np.array([diag[0],0,0,diag[1]]).reshape(2,2)\n",
    "    L = np.array([1,0,var[2],1]).reshape(2,2)\n",
    "    LT = np.array([1,var[2],0,1]).reshape(2,2)\n",
    "    sigma = L @ D @ LT\n",
    "    return np.linalg.pinv(sigma)"
   ]
  },
  {
   "cell_type": "code",
   "execution_count": 3,
   "metadata": {},
   "outputs": [],
   "source": [
    "data = utils.parseGainAndBWCsv2(\"Data/BW-3000.csv\").astype(float)"
   ]
  },
  {
   "cell_type": "code",
   "execution_count": 4,
   "metadata": {},
   "outputs": [
    {
     "name": "stdout",
     "output_type": "stream",
     "text": [
      "[6.200e+02 2.880e-06 3.775e+00 8.280e+10]\n"
     ]
    }
   ],
   "source": [
    "print(data[0])"
   ]
  },
  {
   "cell_type": "code",
   "execution_count": 5,
   "metadata": {},
   "outputs": [],
   "source": [
    "data = preprocessing.MinMaxScaler((0,1)).fit_transform(data)\n",
    "X = data[:,:2]\n",
    "Y = data[:,2:]"
   ]
  },
  {
   "cell_type": "code",
   "execution_count": 6,
   "metadata": {},
   "outputs": [],
   "source": [
    "test_model = model.DistModelBatchNorm(2,2)"
   ]
  },
  {
   "cell_type": "code",
   "execution_count": 7,
   "metadata": {},
   "outputs": [],
   "source": [
    "optimizer = optim.Adagrad(test_model.parameters(),lr=3e-4)\n",
    "loss_fn = nn.L1Loss()\n",
    "\n",
    "dataset1 = dataset.CircuitSynthesisGainAndBandwidthManually(Y, X)\n",
    "train_dataset, val_dataset = utils.splitDataset(dataset1, 0.9)\n",
    "    \n",
    "train_data = DataLoader(train_dataset,batch_size = 500)\n",
    "validation_data = DataLoader(val_dataset, batch_size = 500)"
   ]
  },
  {
   "cell_type": "code",
   "execution_count": 8,
   "metadata": {},
   "outputs": [
    {
     "name": "stdout",
     "output_type": "stream",
     "text": [
      "t = 10, loss = 0.0876, val loss = 0.3319\n",
      "t = 20, loss = 0.0670, val loss = 0.0895\n",
      "t = 30, loss = 0.0578, val loss = 0.0879\n",
      "t = 40, loss = 0.0508, val loss = 0.0841\n",
      "t = 50, loss = 0.0492, val loss = 0.0833\n",
      "t = 60, loss = 0.0464, val loss = 0.0796\n",
      "t = 70, loss = 0.0446, val loss = 0.0735\n",
      "t = 80, loss = 0.0431, val loss = 0.0672\n",
      "t = 90, loss = 0.0414, val loss = 0.0727\n",
      "t = 100, loss = 0.0405, val loss = 0.0812\n",
      "t = 110, loss = 0.0414, val loss = 0.0539\n",
      "t = 120, loss = 0.0391, val loss = 0.0711\n",
      "t = 130, loss = 0.0392, val loss = 0.0650\n",
      "t = 140, loss = 0.0382, val loss = 0.0561\n",
      "t = 150, loss = 0.0363, val loss = 0.0627\n",
      "t = 160, loss = 0.0361, val loss = 0.0659\n",
      "t = 170, loss = 0.0344, val loss = 0.0557\n",
      "t = 180, loss = 0.0349, val loss = 0.0568\n",
      "t = 190, loss = 0.0337, val loss = 0.0685\n",
      "t = 200, loss = 0.0337, val loss = 0.0587\n",
      "t = 210, loss = 0.0339, val loss = 0.0679\n",
      "t = 220, loss = 0.0335, val loss = 0.0650\n",
      "t = 230, loss = 0.0328, val loss = 0.0719\n",
      "t = 240, loss = 0.0320, val loss = 0.0641\n",
      "t = 250, loss = 0.0312, val loss = 0.0567\n",
      "t = 260, loss = 0.0314, val loss = 0.0622\n",
      "t = 270, loss = 0.0319, val loss = 0.0511\n",
      "t = 280, loss = 0.0309, val loss = 0.0592\n",
      "t = 290, loss = 0.0313, val loss = 0.0625\n",
      "t = 300, loss = 0.0306, val loss = 0.0529\n",
      "t = 310, loss = 0.0301, val loss = 0.0541\n",
      "t = 320, loss = 0.0304, val loss = 0.0619\n",
      "t = 330, loss = 0.0309, val loss = 0.0638\n",
      "t = 340, loss = 0.0299, val loss = 0.0598\n",
      "t = 350, loss = 0.0297, val loss = 0.0573\n",
      "t = 360, loss = 0.0291, val loss = 0.0560\n",
      "t = 370, loss = 0.0295, val loss = 0.0647\n",
      "t = 380, loss = 0.0285, val loss = 0.0628\n",
      "t = 390, loss = 0.0290, val loss = 0.0602\n",
      "t = 400, loss = 0.0287, val loss = 0.0537\n",
      "t = 410, loss = 0.0287, val loss = 0.0513\n",
      "t = 420, loss = 0.0282, val loss = 0.0653\n",
      "t = 430, loss = 0.0276, val loss = 0.0603\n",
      "t = 440, loss = 0.0280, val loss = 0.0565\n",
      "t = 450, loss = 0.0285, val loss = 0.0582\n",
      "t = 460, loss = 0.0279, val loss = 0.0578\n",
      "t = 470, loss = 0.0275, val loss = 0.0550\n",
      "t = 480, loss = 0.0278, val loss = 0.0615\n",
      "t = 490, loss = 0.0278, val loss = 0.0509\n",
      "t = 500, loss = 0.0281, val loss = 0.0651\n",
      "t = 510, loss = 0.0273, val loss = 0.0506\n",
      "t = 520, loss = 0.0268, val loss = 0.0591\n",
      "t = 530, loss = 0.0268, val loss = 0.0527\n",
      "t = 540, loss = 0.0266, val loss = 0.0515\n",
      "t = 550, loss = 0.0268, val loss = 0.0625\n",
      "t = 560, loss = 0.0269, val loss = 0.0500\n",
      "t = 570, loss = 0.0266, val loss = 0.0604\n",
      "t = 580, loss = 0.0264, val loss = 0.0552\n",
      "t = 590, loss = 0.0263, val loss = 0.0497\n",
      "t = 600, loss = 0.0259, val loss = 0.0568\n",
      "t = 610, loss = 0.0256, val loss = 0.0604\n",
      "t = 620, loss = 0.0264, val loss = 0.0490\n",
      "t = 630, loss = 0.0259, val loss = 0.0574\n",
      "t = 640, loss = 0.0260, val loss = 0.0591\n",
      "t = 650, loss = 0.0260, val loss = 0.0590\n",
      "t = 660, loss = 0.0256, val loss = 0.0653\n",
      "t = 670, loss = 0.0257, val loss = 0.0609\n",
      "t = 680, loss = 0.0259, val loss = 0.0517\n",
      "t = 690, loss = 0.0256, val loss = 0.0639\n",
      "t = 700, loss = 0.0253, val loss = 0.0607\n",
      "t = 710, loss = 0.0251, val loss = 0.0588\n",
      "t = 720, loss = 0.0257, val loss = 0.0612\n",
      "t = 730, loss = 0.0247, val loss = 0.0595\n",
      "t = 740, loss = 0.0254, val loss = 0.0590\n",
      "t = 750, loss = 0.0249, val loss = 0.0602\n",
      "t = 760, loss = 0.0249, val loss = 0.0527\n",
      "t = 770, loss = 0.0245, val loss = 0.0638\n",
      "t = 780, loss = 0.0247, val loss = 0.0609\n",
      "t = 790, loss = 0.0246, val loss = 0.0570\n",
      "t = 800, loss = 0.0244, val loss = 0.0598\n",
      "t = 810, loss = 0.0244, val loss = 0.0589\n",
      "t = 820, loss = 0.0246, val loss = 0.0595\n",
      "t = 830, loss = 0.0243, val loss = 0.0551\n",
      "t = 840, loss = 0.0240, val loss = 0.0578\n",
      "t = 850, loss = 0.0242, val loss = 0.0581\n",
      "t = 860, loss = 0.0242, val loss = 0.0601\n",
      "t = 870, loss = 0.0242, val loss = 0.0506\n",
      "t = 880, loss = 0.0239, val loss = 0.0576\n",
      "t = 890, loss = 0.0237, val loss = 0.0533\n",
      "t = 900, loss = 0.0238, val loss = 0.0611\n",
      "t = 910, loss = 0.0243, val loss = 0.0623\n",
      "t = 920, loss = 0.0239, val loss = 0.0608\n",
      "t = 930, loss = 0.0236, val loss = 0.0616\n",
      "t = 940, loss = 0.0236, val loss = 0.0569\n",
      "t = 950, loss = 0.0237, val loss = 0.0597\n",
      "t = 960, loss = 0.0237, val loss = 0.0529\n",
      "t = 970, loss = 0.0239, val loss = 0.0638\n",
      "t = 980, loss = 0.0238, val loss = 0.0516\n",
      "t = 990, loss = 0.0236, val loss = 0.0548\n",
      "t = 1000, loss = 0.0233, val loss = 0.0607\n"
     ]
    }
   ],
   "source": [
    "epochs = 1000\n",
    "loss_list, val_loss_list = train.trainAbsoluteModel(test_model, train_data, loss_fn, optimizer, num_epochs=epochs, print_every=10, validation_data=validation_data)"
   ]
  },
  {
   "cell_type": "code",
   "execution_count": 9,
   "metadata": {},
   "outputs": [],
   "source": [
    "test_y = []\n",
    "test_x = []\n",
    "for i in val_dataset:\n",
    "    test_y.append(list(i[0]))\n",
    "    test_x.append(list(i[1]))\n",
    "test_y = np.array(test_y)\n",
    "test_x = np.array(test_x)"
   ]
  },
  {
   "cell_type": "code",
   "execution_count": 10,
   "metadata": {},
   "outputs": [],
   "source": [
    "test_model.eval()\n",
    "x_preds = test_model(torch.Tensor(test_y))\n",
    "#print(x_preds)\n",
    "mock_simulator = tf.keras.models.load_model('mock_simulator2.0')\n",
    "#mock_simulator = mockSimulator\n",
    "\n",
    "final_preds = []\n",
    "for i in range(x_preds.shape[0]):\n",
    "    means = x_preds.detach().numpy()[i,:2].T\n",
    "    w,r = means\n",
    "    y_hat = mock_simulator(means.reshape(1,2)) # feed back through simulator to get evaluated performance\n",
    "    final_preds.append(y_hat)\n",
    "final_preds = np.array(final_preds).reshape(-1,2)\n",
    "    \n"
   ]
  },
  {
   "cell_type": "code",
   "execution_count": 11,
   "metadata": {},
   "outputs": [
    {
     "name": "stdout",
     "output_type": "stream",
     "text": [
      "Correct = 74 / 303\n"
     ]
    },
    {
     "data": {
      "text/plain": [
       "0.24422442244224424"
      ]
     },
     "execution_count": 11,
     "metadata": {},
     "output_type": "execute_result"
    }
   ],
   "source": [
    "check_acc(test_y,final_preds,margin=.05)"
   ]
  },
  {
   "cell_type": "code",
   "execution_count": 12,
   "metadata": {},
   "outputs": [
    {
     "data": {
      "image/png": "[encoded data removed]",
      "text/plain": [
       "<Figure size 2592x864 with 3 Axes>"
      ]
     },
     "metadata": {
      "needs_background": "light"
     },
     "output_type": "display_data"
    }
   ],
   "source": [
    "fig, axes = plt.subplots(figsize=(36, 12))\n",
    "axes.get_xaxis().set_visible(False) # remove erroreas graph axis\n",
    "axes.get_yaxis().set_visible(False)\n",
    "\n",
    "\n",
    "xlim = [test_y[:,0].min(),test_y[:,0].max()]\n",
    "ylim = [test_y[:,1].min(),test_y[:,1].max()]\n",
    "\n",
    "\n",
    "ax = fig.add_subplot(121)\n",
    "plt.plot(test_y[:,0],test_y[:,1], \".\")\n",
    "ax = fig.add_subplot(122)\n",
    "ax.set_xlim(xlim)\n",
    "ax.set_ylim(ylim)\n",
    "plt.plot(final_preds[:,0],final_preds[:,1], \".\")\n",
    "\n",
    "plt.show()"
   ]
  },
  {
   "cell_type": "code",
   "execution_count": 13,
   "metadata": {},
   "outputs": [
    {
     "data": {
      "text/plain": [
       "[<matplotlib.lines.Line2D at 0x7fd564693090>]"
      ]
     },
     "execution_count": 13,
     "metadata": {},
     "output_type": "execute_result"
    },
    {
     "data": {
      "image/png": "[encoded data removed]",
      "text/plain": [
       "<Figure size 432x288 with 1 Axes>"
      ]
     },
     "metadata": {
      "needs_background": "light"
     },
     "output_type": "display_data"
    }
   ],
   "source": [
    "plt.plot(loss_list)\n",
    "plt.plot(val_loss_list)"
   ]
  },
  {
   "cell_type": "code",
   "execution_count": 14,
   "metadata": {},
   "outputs": [
    {
     "name": "stdout",
     "output_type": "stream",
     "text": [
      "Correct = 271 / 303\n"
     ]
    },
    {
     "data": {
      "text/plain": [
       "0.8943894389438944"
      ]
     },
     "execution_count": 14,
     "metadata": {},
     "output_type": "execute_result"
    }
   ],
   "source": [
    "final_preds = []\n",
    "for i in range(x_preds.shape[0]):\n",
    "    means = test_x[i,:2].T\n",
    "    w,r = means\n",
    "    y_hat = mock_simulator(means.reshape(1,2)) # feed back through simulator to get evaluated performance\n",
    "    final_preds.append(y_hat)\n",
    "final_preds = np.array(final_preds).reshape(-1,2)\n",
    "check_acc(test_y,final_preds,margin=.05)"
   ]
  },
  {
   "cell_type": "code",
   "execution_count": 15,
   "metadata": {},
   "outputs": [],
   "source": [
    "test_gaussian_model = model.DistModelBatchNorm(2,5)"
   ]
  },
  {
   "cell_type": "code",
   "execution_count": 16,
   "metadata": {},
   "outputs": [],
   "source": [
    "optimizer_gaussian = optim.Adagrad(test_gaussian_model.parameters(),lr=0.001)\n",
    "loss_gaussian_fn = multivariate_gaussian_nll"
   ]
  },
  {
   "cell_type": "code",
   "execution_count": 17,
   "metadata": {},
   "outputs": [
    {
     "name": "stdout",
     "output_type": "stream",
     "text": [
      "t = 10, loss = -1.5291, val loss = -1.5520\n",
      "t = 20, loss = -2.0792, val loss = -2.1440\n",
      "t = 30, loss = -2.5320, val loss = -2.5330\n",
      "t = 40, loss = -2.8883, val loss = -2.9494\n",
      "t = 50, loss = -3.1895, val loss = -3.2030\n",
      "t = 60, loss = -3.3807, val loss = -3.4043\n",
      "t = 70, loss = -3.7329, val loss = -3.7269\n",
      "t = 80, loss = -3.8532, val loss = -3.8167\n",
      "t = 90, loss = -4.0721, val loss = -4.1627\n",
      "t = 100, loss = -4.2235, val loss = -4.3298\n",
      "t = 110, loss = -4.3585, val loss = -4.3958\n",
      "t = 120, loss = -4.4835, val loss = -4.5559\n",
      "t = 130, loss = -4.6943, val loss = -4.7245\n",
      "t = 140, loss = -4.8944, val loss = -4.9020\n",
      "t = 150, loss = -4.9600, val loss = -4.9468\n",
      "t = 160, loss = -4.7157, val loss = -4.8025\n",
      "t = 170, loss = -5.1043, val loss = -5.3441\n",
      "t = 180, loss = -5.2569, val loss = -5.3724\n",
      "t = 190, loss = -5.3424, val loss = -5.3576\n",
      "t = 200, loss = -5.1429, val loss = -5.4138\n",
      "t = 210, loss = -5.6700, val loss = -5.7854\n",
      "t = 220, loss = -5.5757, val loss = -5.7322\n",
      "t = 230, loss = -5.6023, val loss = -5.7323\n",
      "t = 240, loss = -5.8145, val loss = -5.9617\n",
      "t = 250, loss = -5.6437, val loss = -5.9489\n",
      "t = 260, loss = -5.5922, val loss = -5.9108\n",
      "t = 270, loss = -5.8262, val loss = -6.1256\n",
      "t = 280, loss = -5.7021, val loss = -5.8897\n",
      "t = 290, loss = -6.0026, val loss = -6.1437\n",
      "t = 300, loss = -5.6978, val loss = -5.9913\n",
      "t = 310, loss = -6.0707, val loss = -6.2764\n",
      "t = 320, loss = -6.0841, val loss = -6.2573\n",
      "t = 330, loss = -6.1895, val loss = -6.1534\n",
      "t = 340, loss = -6.0273, val loss = -6.0110\n",
      "t = 350, loss = -6.4249, val loss = -6.4024\n",
      "t = 360, loss = -6.3383, val loss = -6.5021\n",
      "t = 370, loss = -6.4940, val loss = -6.5984\n",
      "t = 380, loss = -6.1518, val loss = -6.3604\n",
      "t = 390, loss = -6.4488, val loss = -6.6540\n",
      "t = 400, loss = -6.3900, val loss = -6.7692\n",
      "t = 410, loss = -6.6623, val loss = -6.6398\n",
      "t = 420, loss = -6.4061, val loss = -6.7844\n",
      "t = 430, loss = -6.7391, val loss = -6.9183\n",
      "t = 440, loss = -6.5215, val loss = -6.7737\n",
      "t = 450, loss = -6.4438, val loss = -6.1426\n",
      "t = 460, loss = -6.5952, val loss = -6.8303\n",
      "t = 470, loss = -6.6079, val loss = -6.9199\n",
      "t = 480, loss = -6.7298, val loss = -6.9446\n",
      "t = 490, loss = -6.4056, val loss = -6.4488\n",
      "t = 500, loss = -6.7766, val loss = -6.9192\n",
      "t = 510, loss = -6.9194, val loss = -7.0301\n",
      "t = 520, loss = -6.9357, val loss = -7.1381\n",
      "t = 530, loss = -6.8535, val loss = -7.0662\n",
      "t = 540, loss = -6.9873, val loss = -7.1124\n",
      "t = 550, loss = -6.8735, val loss = -7.2249\n",
      "t = 560, loss = -6.8982, val loss = -6.8955\n",
      "t = 570, loss = -6.5593, val loss = -6.8308\n",
      "t = 580, loss = -6.9067, val loss = -7.1707\n",
      "t = 590, loss = -7.0035, val loss = -7.2078\n",
      "t = 600, loss = -6.7336, val loss = -7.1427\n",
      "t = 610, loss = -6.9777, val loss = -7.2401\n",
      "t = 620, loss = -6.7388, val loss = -7.2029\n",
      "t = 630, loss = -6.9718, val loss = -7.1166\n",
      "t = 640, loss = -6.9514, val loss = -7.0120\n",
      "t = 650, loss = -7.1877, val loss = -7.2132\n",
      "t = 660, loss = -7.2244, val loss = -7.3839\n",
      "t = 670, loss = -7.0686, val loss = -7.2752\n",
      "t = 680, loss = -7.2340, val loss = -7.4375\n",
      "t = 690, loss = -6.6698, val loss = -7.0203\n",
      "t = 700, loss = -7.2473, val loss = -7.5244\n",
      "t = 710, loss = -6.4179, val loss = -7.0559\n",
      "t = 720, loss = -7.2222, val loss = -7.5029\n",
      "t = 730, loss = -6.9608, val loss = -7.4268\n",
      "t = 740, loss = -7.2389, val loss = -7.4312\n",
      "t = 750, loss = -7.2569, val loss = -7.3573\n",
      "t = 760, loss = -7.2322, val loss = -7.3183\n",
      "t = 770, loss = -6.7459, val loss = -7.0797\n",
      "t = 780, loss = -7.3681, val loss = -7.6599\n",
      "t = 790, loss = -7.1561, val loss = -7.4956\n",
      "t = 800, loss = -7.3579, val loss = -7.5729\n",
      "t = 810, loss = -7.3914, val loss = -7.6161\n",
      "t = 820, loss = -7.4775, val loss = -7.7186\n",
      "t = 830, loss = -6.8539, val loss = -7.3448\n",
      "t = 840, loss = -7.3404, val loss = -7.6534\n",
      "t = 850, loss = -7.3678, val loss = -7.5170\n",
      "t = 860, loss = -7.2850, val loss = -7.6320\n",
      "t = 870, loss = -7.3053, val loss = -7.6101\n",
      "t = 880, loss = -6.7373, val loss = -7.3307\n",
      "t = 890, loss = -7.1913, val loss = -7.5422\n",
      "t = 900, loss = -7.3593, val loss = -7.7040\n",
      "t = 910, loss = -7.1484, val loss = -7.5224\n",
      "t = 920, loss = -7.4193, val loss = -7.7119\n",
      "t = 930, loss = -7.1279, val loss = -7.4619\n",
      "t = 940, loss = -7.4971, val loss = -7.6935\n",
      "t = 950, loss = -7.2742, val loss = -7.7102\n",
      "t = 960, loss = -7.6989, val loss = -7.8838\n",
      "t = 970, loss = -7.1126, val loss = -7.2055\n",
      "t = 980, loss = -7.6329, val loss = -7.8121\n",
      "t = 990, loss = -7.5827, val loss = -7.8705\n",
      "t = 1000, loss = -7.3441, val loss = -7.6369\n"
     ]
    }
   ],
   "source": [
    "epochs = 1000\n",
    "loss_list, val_loss_list = train.trainProbModel(test_gaussian_model, train_data, loss_gaussian_fn, optimizer_gaussian, num_epochs=epochs, print_every=10, validation_data=validation_data)"
   ]
  },
  {
   "cell_type": "code",
   "execution_count": 18,
   "metadata": {},
   "outputs": [
    {
     "name": "stdout",
     "output_type": "stream",
     "text": [
      "Correct = 187 / 303\n"
     ]
    },
    {
     "data": {
      "text/plain": [
       "0.6171617161716172"
      ]
     },
     "execution_count": 18,
     "metadata": {},
     "output_type": "execute_result"
    }
   ],
   "source": [
    "test_gaussian_model.eval()\n",
    "x_preds = test_gaussian_model(torch.Tensor(test_y))\n",
    "\n",
    "mock_simulator = tf.keras.models.load_model('mock_simulator2.0')\n",
    "\n",
    "final_g_preds = []\n",
    "for i in range(x_preds.shape[0]):\n",
    "    means = x_preds.detach().numpy()[i,:2].T\n",
    "    w,r = means\n",
    "    y_hat = mock_simulator(means.reshape(1,2)) # feed back through simulator to get evaluated performance\n",
    "    final_g_preds.append(y_hat)\n",
    "final_g_preds = np.array(final_g_preds).reshape(-1,2)\n",
    "    \n",
    "\n",
    "# for i,d in enumerate(final_preds):\n",
    "#     print(Y[i],d)\n",
    "check_acc(test_y,final_g_preds,margin=.05)"
   ]
  },
  {
   "cell_type": "code",
   "execution_count": 19,
   "metadata": {},
   "outputs": [
    {
     "data": {
      "text/plain": [
       "[<matplotlib.lines.Line2D at 0x7fd562cd9b10>]"
      ]
     },
     "execution_count": 19,
     "metadata": {},
     "output_type": "execute_result"
    },
    {
     "data": {
      "image/png": "[encoded data removed]",
      "text/plain": [
       "<Figure size 432x288 with 1 Axes>"
      ]
     },
     "metadata": {
      "needs_background": "light"
     },
     "output_type": "display_data"
    }
   ],
   "source": [
    "plt.plot(loss_list)\n",
    "plt.plot(val_loss_list)"
   ]
  },
  {
   "cell_type": "code",
   "execution_count": null,
   "metadata": {},
   "outputs": [],
   "source": []
  },
  {
   "cell_type": "code",
   "execution_count": null,
   "metadata": {},
   "outputs": [],
   "source": []
  },
  {
   "cell_type": "code",
   "execution_count": null,
   "metadata": {},
   "outputs": [],
   "source": []
  }
 ],
 "metadata": {
  "kernelspec": {
   "display_name": "Python 3",
   "language": "python",
   "name": "python3"
  },
  "language_info": {
   "codemirror_mode": {
    "name": "ipython",
    "version": 3
   },
   "file_extension": ".py",
   "mimetype": "text/x-python",
   "name": "python",
   "nbconvert_exporter": "python",
   "pygments_lexer": "ipython3",
   "version": "3.7.6"
  }
 },
 "nbformat": 4,
 "nbformat_minor": 5
}
