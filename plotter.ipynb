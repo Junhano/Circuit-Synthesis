{
 "cells": [
  {
   "cell_type": "code",
   "execution_count": 5,
   "metadata": {},
   "outputs": [],
   "source": [
    "from matplotlib import pyplot as plt\n",
    "import numpy as np\n",
    "import os\n",
    "\n"
   ]
  },
  {
   "cell_type": "code",
   "execution_count": 6,
   "metadata": {},
   "outputs": [
    {
     "data": {
      "text/plain": [
       "['multi_test_mean.npy',\n",
       " 'multi_test_lower_bound.npy',\n",
       " 'circuit_error_average.npy',\n",
       " 'performance_error_average.npy',\n",
       " 'test_margins.npy',\n",
       " 'multi_test_upper_bound.npy',\n",
       " 'performance_error_std.npy',\n",
       " 'circuit_error_std.npy']"
      ]
     },
     "execution_count": 6,
     "metadata": {},
     "output_type": "execute_result"
    }
   ],
   "source": [
    "os.listdir(path='result_out/pa-circuit-SoftArgmax-dataset-Model500GELU-method-2023-01-15 22-44/')\n"
   ]
  },
  {
   "cell_type": "code",
   "execution_count": 9,
   "metadata": {},
   "outputs": [],
   "source": [
    "path = 'result_out/pa-circuit-SoftArgmax-dataset-Model500GELU-method-2023-01-15 22-44/'\n",
    "data = np.load(path+'/test_margins.npy',allow_pickle=True)\n",
    "# len(data[data <= 0.01])/data.reshape(-1).shape[0]"
   ]
  },
  {
   "cell_type": "code",
   "execution_count": 25,
   "metadata": {},
   "outputs": [
    {
     "data": {
      "text/plain": [
       "array([ True, False,  True, ...,  True,  True,  True])"
      ]
     },
     "execution_count": 25,
     "metadata": {},
     "output_type": "execute_result"
    }
   ],
   "source": []
  }
 ],
 "metadata": {
  "kernelspec": {
   "display_name": "Python 3.9.12 ('base')",
   "language": "python",
   "name": "python3"
  },
  "language_info": {
   "codemirror_mode": {
    "name": "ipython",
    "version": 3
   },
   "file_extension": ".py",
   "mimetype": "text/x-python",
   "name": "python",
   "nbconvert_exporter": "python",
   "pygments_lexer": "ipython3",
   "version": "3.9.12"
  },
  "orig_nbformat": 4,
  "vscode": {
   "interpreter": {
    "hash": "bab6154bf662ec9dc61bc2f4f92d5223e97c55d2f68863804aa9b82dda93ee00"
   }
  }
 },
 "nbformat": 4,
 "nbformat_minor": 2
}
